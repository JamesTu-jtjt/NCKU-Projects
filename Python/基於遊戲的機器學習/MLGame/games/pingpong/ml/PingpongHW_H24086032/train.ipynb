{
 "cells": [
  {
   "cell_type": "code",
   "execution_count": 8,
   "metadata": {},
   "outputs": [],
   "source": [
    "import pickle\n",
    "path = \"C:/Users/user/Desktop/MLGame/games/pingpong/log/t (1).pickle\"\n",
    "file = open(path, \"rb\")\n",
    "data = pickle.load(file)\n",
    "info1 = data['ml_1P']['scene_info']\n",
    "game_command1 = data['ml_1P']['command']\n",
    "game_command2 = data['ml_2P']['command']\n",
    "file.close()\n",
    "\n",
    "\n",
    "for i in range(2, 243):\n",
    "    path = \"C:/Users/user/Desktop/MLGame/games/pingpong/log/t (\" + str(i) + \").pickle\"\n",
    "    file = open(path, \"rb\")\n",
    "    data = pickle.load(file)\n",
    "    info1 = info1 + data['ml_1P']['scene_info']\n",
    "    game_command1 = game_command1 + data['ml_1P']['command']\n",
    "    game_command2 = game_command2 + data['ml_2P']['command']\n",
    "    file.close()\n",
    "\n",
    "for i in range(1, 1940):\n",
    "    path = \"C:/Users/user/Desktop/MLGame/games/pingpong/log/feature (\" + str(i) + \").pickle\"\n",
    "    file = open(path, \"rb\")\n",
    "    data = pickle.load(file)\n",
    "    info1 = info1 + data['ml_1P']['scene_info']\n",
    "    game_command1 = game_command1 + data['ml_1P']['command']\n",
    "    game_command2 = game_command2 + data['ml_2P']['command']\n",
    "    file.close()\n"
   ]
  },
  {
   "cell_type": "code",
   "execution_count": 9,
   "metadata": {},
   "outputs": [
    {
     "name": "stdout",
     "output_type": "stream",
     "text": [
      "3511726\n",
      "3511726\n",
      "3511726\n",
      "3511726\n"
     ]
    }
   ],
   "source": [
    "# 提取特徵\n",
    "bx = []\n",
    "by = []\n",
    "bsx = []\n",
    "bsy = []\n",
    "s = []\n",
    "p1 = []\n",
    "p2 = []\n",
    "b = []\n",
    "bs = []\n",
    "command1 = []\n",
    "command2 = []\n",
    "\n",
    "c = False\n",
    "for i in range(1, len(info1)):\n",
    "    scene_info = info1[i]\n",
    "    c1 = game_command1[i]\n",
    "    c2 = game_command2[i]\n",
    "    status = scene_info['status']\n",
    "    if status != 'GAME_ALIVE':\n",
    "        c1 = False\n",
    "        c2 = False\n",
    "        continue\n",
    "    else:\n",
    "        if c1 == 'SERVE_TO_LEFT' or c1 == 'SERVE_TO_RIGHT' or c2 == 'SERVE_TO_LEFT' or c2 == 'SERVE_TO_RIGHT':\n",
    "            c = True\n",
    "            continue\n",
    "    if c:   \n",
    "        ball_x = scene_info['ball'][0]\n",
    "        ball_y = scene_info['ball'][1]\n",
    "        ball_speed_x = scene_info[\"ball_speed\"][0]\n",
    "        ball_speed_y = scene_info[\"ball_speed\"][1]\n",
    "        slope = ball_speed_y/ball_speed_x if ball_speed_x != 0 else 0\n",
    "        platform1 = scene_info['platform_1P'][0]\n",
    "        platform2 = scene_info['platform_2P'][0]\n",
    "        if \"blocker\" in scene_info:\n",
    "            blocker = scene_info[\"blocker\"][0]\n",
    "            blocker_s = 5 if scene_info[\"blocker\"][0] - info1[i-1][\"blocker\"][0] > 0 else -5\n",
    "            if slope != 0:\n",
    "                bx.append(ball_x)\n",
    "                by.append(ball_y)\n",
    "                bsx.append(ball_speed_x)\n",
    "                bsy.append(ball_speed_y)\n",
    "                s.append(slope)\n",
    "                p1.append(platform1)\n",
    "                p2.append(platform2)\n",
    "                b.append(blocker)\n",
    "                bs.append(blocker_s)\n",
    "                if c1 == \"NONE\":\n",
    "                    command1.append(0)\n",
    "                elif c1 == \"MOVE_LEFT\":\n",
    "                    command1.append(-1)\n",
    "                elif c1 == \"MOVE_RIGHT\":\n",
    "                    command1.append(1)\n",
    "                if c2 == \"NONE\":\n",
    "                    command2.append(0)\n",
    "                elif c2 == \"MOVE_LEFT\":\n",
    "                    command2.append(-1)\n",
    "                elif c2 == \"MOVE_RIGHT\":\n",
    "                    command2.append(1)\n",
    "        else:\n",
    "            if slope != 0:\n",
    "                bx.append(ball_x)\n",
    "                by.append(ball_y)\n",
    "                bsx.append(ball_speed_x)\n",
    "                bsy.append(ball_speed_y)\n",
    "                s.append(slope)\n",
    "                p1.append(platform1)\n",
    "                p2.append(platform2)\n",
    "                b.append(-1)\n",
    "                bs.append(-1)\n",
    "                if c1 == \"NONE\":\n",
    "                    command1.append(0)\n",
    "                elif c1 == \"MOVE_LEFT\":\n",
    "                    command1.append(-1)\n",
    "                elif c1 == \"MOVE_RIGHT\":\n",
    "                    command1.append(1)\n",
    "                if c2 == \"NONE\":\n",
    "                    command2.append(0)\n",
    "                elif c2 == \"MOVE_LEFT\":\n",
    "                    command2.append(-1)\n",
    "                elif c2 == \"MOVE_RIGHT\":\n",
    "                    command2.append(1)\n",
    "print(len(p1))\n",
    "print(len(p2))\n",
    "print(len(command1))\n",
    "print(len(command2))"
   ]
  },
  {
   "cell_type": "code",
   "execution_count": 10,
   "metadata": {},
   "outputs": [],
   "source": [
    "import numpy as np\n",
    "\n",
    "numpy_data1 = np.array([bx, by, bsx, bsy, s, p1, b, bs])\n",
    "numpy_data2 = np.array([bx, by, bsx, bsy, s, p2, b, bs])\n",
    "X1 = np.transpose(numpy_data1) \n",
    "y1 = command1\n",
    "X2 = np.transpose(numpy_data2) \n",
    "y2 = command2"
   ]
  },
  {
   "cell_type": "code",
   "execution_count": null,
   "metadata": {},
   "outputs": [],
   "source": [
    "# train data KNN\n",
    "from sklearn.neighbors import KNeighborsClassifier\n",
    "\n",
    "model1 = KNeighborsClassifier(n_neighbors=2)\n",
    "model1.fit(X1, y1)\n",
    "print(model1.score(X1, y1))\n",
    "model2 = KNeighborsClassifier(n_neighbors=2)\n",
    "model2.fit(X2, y2)\n",
    "print(model2.score(X2, y2))"
   ]
  },
  {
   "cell_type": "code",
   "execution_count": null,
   "metadata": {},
   "outputs": [],
   "source": [
    "with open('C:/Users/user/Desktop/MLGame/games/pingpong/ml/model_1P_knn.pickle', 'wb') as p1:\n",
    "    pickle.dump(model1, p1)\n",
    "with open('C:/Users/user/Desktop/MLGame/games/pingpong/ml/model_2P_knn.pickle', 'wb') as p2:\n",
    "    pickle.dump(model2, p2)"
   ]
  },
  {
   "cell_type": "code",
   "execution_count": 11,
   "metadata": {},
   "outputs": [
    {
     "data": {
      "text/plain": [
       "RandomForestClassifier(max_depth=20)"
      ]
     },
     "execution_count": 11,
     "metadata": {},
     "output_type": "execute_result"
    }
   ],
   "source": [
    "\"\"\"from sklearn.ensemble import RandomForestClassifier\n",
    "rfc1 = RandomForestClassifier(max_depth = 20)\n",
    "rfc1.fit(X1,y1)\n",
    "rfc2 = RandomForestClassifier(max_depth = 20)\n",
    "rfc2.fit(X2,y2)\"\"\""
   ]
  },
  {
   "cell_type": "code",
   "execution_count": 12,
   "metadata": {},
   "outputs": [],
   "source": [
    "\"\"\"with open('C:/Users/user/Desktop/MLGame/games/pingpong/ml/model_1P_rfc.pickle', 'wb') as p1:\n",
    "    pickle.dump(rfc1, p1)\n",
    "with open('C:/Users/user/Desktop/MLGame/games/pingpong/ml/model_2P_rfc.pickle', 'wb') as p2:\n",
    "    pickle.dump(rfc2, p2)\"\"\""
   ]
  },
  {
   "cell_type": "code",
   "execution_count": null,
   "metadata": {},
   "outputs": [],
   "source": [
    "\"\"\"# train data SVM classification\n",
    "from sklearn import svm\n",
    "#ppc1 = svm.SVC(gamma = 0.001, decision_function_shape = 'ovo')\n",
    "#ppc1.fit(X1,y1)\n",
    "\n",
    "#ppc2 = svm.SVC(gamma = 0.001, decision_function_shape = 'ovo')\n",
    "#ppc2.fit(X2,y2)\n",
    "\n",
    "ppc1 = svm.SVC(gamma = 0.001, decision_function_shape = 'ovr')\n",
    "ppc1.fit(X1,y1)\n",
    "\n",
    "ppc2 = svm.SVC(gamma = 0.001, decision_function_shape = 'ovr')\n",
    "ppc2.fit(X2,y2)\"\"\""
   ]
  },
  {
   "cell_type": "code",
   "execution_count": null,
   "metadata": {},
   "outputs": [],
   "source": [
    "\"\"\"with open('C:/Users/user/Desktop/MLGame/games/pingpong/ml/model_1P_svm.pickle', 'wb') as p1:\n",
    "    pickle.dump(ppc1, p1)\n",
    "with open('C:/Users/user/Desktop/MLGame/games/pingpong/ml/model_2P_svm.pickle', 'wb') as p2:\n",
    "    pickle.dump(ppc2, p2)\"\"\""
   ]
  }
 ],
 "metadata": {
  "kernelspec": {
   "display_name": "Python 3",
   "language": "python",
   "name": "python3"
  },
  "language_info": {
   "codemirror_mode": {
    "name": "ipython",
    "version": 3
   },
   "file_extension": ".py",
   "mimetype": "text/x-python",
   "name": "python",
   "nbconvert_exporter": "python",
   "pygments_lexer": "ipython3",
   "version": "3.8.5"
  }
 },
 "nbformat": 4,
 "nbformat_minor": 4
}
